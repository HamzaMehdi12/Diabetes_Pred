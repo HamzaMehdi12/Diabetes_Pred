{
 "cells": [
  {
   "cell_type": "markdown",
   "id": "c0bf5791-1338-418c-84b1-13bdf6ce0f90",
   "metadata": {},
   "source": [
    "# FastAPI based application for Diabetes Model"
   ]
  },
  {
   "cell_type": "code",
   "execution_count": 1,
   "id": "c5c5848a-491f-4cbf-9cbe-9a9e1833ab0c",
   "metadata": {},
   "outputs": [],
   "source": [
    "import os\n",
    "import sys\n",
    "import pandas as pd\n",
    "import numpy as np\n",
    "from tensorflow.keras.models import load_model as keras_load_mdel\n",
    "from fastapi import FastAPI, UploadFile, File"
   ]
  },
  {
   "cell_type": "code",
   "execution_count": 2,
   "id": "6ac37ba0-e31f-499d-9dad-f75848e978d4",
   "metadata": {},
   "outputs": [],
   "source": [
    "def load_model():\n",
    "    \"\"\"\n",
    "    Loads the pre_trained keras CNN model\n",
    "    \"\"\"\n",
    "    model_path = \"model/diabetes_model.h5\"\n",
    "    model = keras_load_model(model_path)\n",
    "    return model"
   ]
  },
  {
   "cell_type": "code",
   "execution_count": 3,
   "id": "f19564a5-9090-4d9f-9543-fa8dc739fdca",
   "metadata": {},
   "outputs": [],
   "source": [
    "def preprocessing_data(df: pd.DataFrame):\n",
    "    \"\"\"\n",
    "    Preprocess the Excel input data to match the CNN expected input shape\n",
    "    \"\"\"\n",
    "    df = df.dropna() # Drops rows with missing values\n",
    "    data = df.values # converts dataframes into numpy arrays\n",
    "    data = data.astype(\"float32\")# ensures array is of float32 typ\n",
    "    #reshaping data for 1D CNN\n",
    "    if data.ndim == 2:\n",
    "        data = np.expand_dims(data, axis = -1)\n",
    "    return data"
   ]
  },
  {
   "cell_type": "code",
   "execution_count": 4,
   "id": "ddfc53f4-6ff5-4811-a450-f1a88ffc8583",
   "metadata": {},
   "outputs": [],
   "source": [
    "def predict(model, data):\n",
    "    \"\"\"\n",
    "    predicting using CNN loaded model\n",
    "    \"\"\"\n",
    "    pred_probs = model.predict(data) #getting predictions\n",
    "    predictions = (pred_probs > 0.5).astype(\"int32\") #converting probabilities into binary outcomes\n",
    "    predictions = np.squeeze(predictions) #if output shape has an extra dimension, squeeze it.\n",
    "    return predictions"
   ]
  },
  {
   "cell_type": "code",
   "execution_count": 5,
   "id": "89d27335-e369-4627-adc7-9f981517e960",
   "metadata": {},
   "outputs": [],
   "source": [
    "app = FastAPI(title = \"Diabetes Model\")\n",
    "model = load_model\n",
    "\n",
    "@app.post(\"/predict\")\n",
    "async def predict_diabetes(file: UploadFile = File(...)):\n",
    "    df = pandas.read_excel(file.file)\n",
    "    data = preprocess_data(df)\n",
    "    preds = predict(model, data)\n",
    "    return {\"predictions\": pres.tolist()}"
   ]
  }
 ],
 "metadata": {
  "kernelspec": {
   "display_name": "Python 3 (ipykernel)",
   "language": "python",
   "name": "python3"
  },
  "language_info": {
   "codemirror_mode": {
    "name": "ipython",
    "version": 3
   },
   "file_extension": ".py",
   "mimetype": "text/x-python",
   "name": "python",
   "nbconvert_exporter": "python",
   "pygments_lexer": "ipython3",
   "version": "3.12.6"
  }
 },
 "nbformat": 4,
 "nbformat_minor": 5
}
